{
    "cells": [
        {
            "cell_type": "markdown",
            "metadata": {},
            "source": "### Just joining here the two files: \n\n#### TorontoPostalCodes_df. csv includes the Borough and Neighbourhood Information and Geospatial_Coordinates.csv includes Latitudes and Longitudes for each postal code"
        },
        {
            "cell_type": "code",
            "execution_count": 17,
            "metadata": {},
            "outputs": [],
            "source": "import pandas as pd"
        },
        {
            "cell_type": "code",
            "execution_count": 18,
            "metadata": {},
            "outputs": [
                {
                    "data": {
                        "text/html": "<div>\n<style scoped>\n    .dataframe tbody tr th:only-of-type {\n        vertical-align: middle;\n    }\n\n    .dataframe tbody tr th {\n        vertical-align: top;\n    }\n\n    .dataframe thead th {\n        text-align: right;\n    }\n</style>\n<table border=\"1\" class=\"dataframe\">\n  <thead>\n    <tr style=\"text-align: right;\">\n      <th></th>\n      <th>Unnamed: 0</th>\n      <th>PostalCode</th>\n      <th>Borough</th>\n      <th>Neighborhood</th>\n    </tr>\n  </thead>\n  <tbody>\n    <tr>\n      <th>0</th>\n      <td>0</td>\n      <td>M1B</td>\n      <td>Scarborough</td>\n      <td>Rouge,Malvern</td>\n    </tr>\n    <tr>\n      <th>1</th>\n      <td>1</td>\n      <td>M1C</td>\n      <td>Scarborough</td>\n      <td>Port Union,Rouge Hill,Highland Creek</td>\n    </tr>\n    <tr>\n      <th>2</th>\n      <td>2</td>\n      <td>M1E</td>\n      <td>Scarborough</td>\n      <td>Guildwood,Morningside,West Hill</td>\n    </tr>\n    <tr>\n      <th>3</th>\n      <td>3</td>\n      <td>M1G</td>\n      <td>Scarborough</td>\n      <td>Woburn</td>\n    </tr>\n    <tr>\n      <th>4</th>\n      <td>4</td>\n      <td>M1H</td>\n      <td>Scarborough</td>\n      <td>Cedarbrae</td>\n    </tr>\n  </tbody>\n</table>\n</div>",
                        "text/plain": "   Unnamed: 0 PostalCode      Borough                          Neighborhood\n0           0        M1B  Scarborough                         Rouge,Malvern\n1           1        M1C  Scarborough  Port Union,Rouge Hill,Highland Creek\n2           2        M1E  Scarborough       Guildwood,Morningside,West Hill\n3           3        M1G  Scarborough                                Woburn\n4           4        M1H  Scarborough                             Cedarbrae"
                    },
                    "execution_count": 18,
                    "metadata": {},
                    "output_type": "execute_result"
                }
            ],
            "source": "PostalCodes_df = pd.read_csv('TorontoPostalCodes_df.csv')   \nPostalCodes_df.head()"
        },
        {
            "cell_type": "code",
            "execution_count": 19,
            "metadata": {},
            "outputs": [
                {
                    "name": "stdout",
                    "output_type": "stream",
                    "text": "The dataframe has 10 boroughs and 103 neighborhoods.\n"
                }
            ],
            "source": "print('The dataframe has {} boroughs and {} neighborhoods.'.format(\n        len(PostalCodes_df['Borough'].unique()),\n       PostalCodes_df.shape[0]\n    )\n)"
        },
        {
            "cell_type": "code",
            "execution_count": 20,
            "metadata": {},
            "outputs": [],
            "source": "del PostalCodes_df['Unnamed: 0']"
        },
        {
            "cell_type": "code",
            "execution_count": 23,
            "metadata": {},
            "outputs": [
                {
                    "data": {
                        "text/html": "<div>\n<style scoped>\n    .dataframe tbody tr th:only-of-type {\n        vertical-align: middle;\n    }\n\n    .dataframe tbody tr th {\n        vertical-align: top;\n    }\n\n    .dataframe thead th {\n        text-align: right;\n    }\n</style>\n<table border=\"1\" class=\"dataframe\">\n  <thead>\n    <tr style=\"text-align: right;\">\n      <th></th>\n      <th>PostalCode</th>\n      <th>Borough</th>\n      <th>Neighborhood</th>\n    </tr>\n  </thead>\n  <tbody>\n    <tr>\n      <th>0</th>\n      <td>M1B</td>\n      <td>Scarborough</td>\n      <td>Rouge,Malvern</td>\n    </tr>\n    <tr>\n      <th>1</th>\n      <td>M1C</td>\n      <td>Scarborough</td>\n      <td>Port Union,Rouge Hill,Highland Creek</td>\n    </tr>\n    <tr>\n      <th>2</th>\n      <td>M1E</td>\n      <td>Scarborough</td>\n      <td>Guildwood,Morningside,West Hill</td>\n    </tr>\n    <tr>\n      <th>3</th>\n      <td>M1G</td>\n      <td>Scarborough</td>\n      <td>Woburn</td>\n    </tr>\n    <tr>\n      <th>4</th>\n      <td>M1H</td>\n      <td>Scarborough</td>\n      <td>Cedarbrae</td>\n    </tr>\n  </tbody>\n</table>\n</div>",
                        "text/plain": "  PostalCode      Borough                          Neighborhood\n0        M1B  Scarborough                         Rouge,Malvern\n1        M1C  Scarborough  Port Union,Rouge Hill,Highland Creek\n2        M1E  Scarborough       Guildwood,Morningside,West Hill\n3        M1G  Scarborough                                Woburn\n4        M1H  Scarborough                             Cedarbrae"
                    },
                    "execution_count": 23,
                    "metadata": {},
                    "output_type": "execute_result"
                }
            ],
            "source": "PostalCodes_df.head()"
        },
        {
            "cell_type": "code",
            "execution_count": 25,
            "metadata": {},
            "outputs": [
                {
                    "data": {
                        "text/html": "<div>\n<style scoped>\n    .dataframe tbody tr th:only-of-type {\n        vertical-align: middle;\n    }\n\n    .dataframe tbody tr th {\n        vertical-align: top;\n    }\n\n    .dataframe thead th {\n        text-align: right;\n    }\n</style>\n<table border=\"1\" class=\"dataframe\">\n  <thead>\n    <tr style=\"text-align: right;\">\n      <th></th>\n      <th>Postal Code</th>\n      <th>Latitude</th>\n      <th>Longitude</th>\n    </tr>\n  </thead>\n  <tbody>\n    <tr>\n      <th>0</th>\n      <td>M1B</td>\n      <td>43.806686</td>\n      <td>-79.194353</td>\n    </tr>\n    <tr>\n      <th>1</th>\n      <td>M1C</td>\n      <td>43.784535</td>\n      <td>-79.160497</td>\n    </tr>\n    <tr>\n      <th>2</th>\n      <td>M1E</td>\n      <td>43.763573</td>\n      <td>-79.188711</td>\n    </tr>\n    <tr>\n      <th>3</th>\n      <td>M1G</td>\n      <td>43.770992</td>\n      <td>-79.216917</td>\n    </tr>\n    <tr>\n      <th>4</th>\n      <td>M1H</td>\n      <td>43.773136</td>\n      <td>-79.239476</td>\n    </tr>\n  </tbody>\n</table>\n</div>",
                        "text/plain": "  Postal Code   Latitude  Longitude\n0         M1B  43.806686 -79.194353\n1         M1C  43.784535 -79.160497\n2         M1E  43.763573 -79.188711\n3         M1G  43.770992 -79.216917\n4         M1H  43.773136 -79.239476"
                    },
                    "execution_count": 25,
                    "metadata": {},
                    "output_type": "execute_result"
                }
            ],
            "source": "Coordinates_df = pd.read_csv('https://cocl.us/Geospatial_data/Geospatial_Coordinates.csv')   \nCoordinates_df.head()"
        },
        {
            "cell_type": "code",
            "execution_count": 26,
            "metadata": {},
            "outputs": [],
            "source": "Toronto_df=PostalCodes_df.set_index('PostalCode').join(Coordinates_df.set_index('Postal Code'))"
        },
        {
            "cell_type": "code",
            "execution_count": 27,
            "metadata": {},
            "outputs": [
                {
                    "data": {
                        "text/html": "<div>\n<style scoped>\n    .dataframe tbody tr th:only-of-type {\n        vertical-align: middle;\n    }\n\n    .dataframe tbody tr th {\n        vertical-align: top;\n    }\n\n    .dataframe thead th {\n        text-align: right;\n    }\n</style>\n<table border=\"1\" class=\"dataframe\">\n  <thead>\n    <tr style=\"text-align: right;\">\n      <th></th>\n      <th>Borough</th>\n      <th>Neighborhood</th>\n      <th>Latitude</th>\n      <th>Longitude</th>\n    </tr>\n    <tr>\n      <th>PostalCode</th>\n      <th></th>\n      <th></th>\n      <th></th>\n      <th></th>\n    </tr>\n  </thead>\n  <tbody>\n    <tr>\n      <th>M1B</th>\n      <td>Scarborough</td>\n      <td>Rouge,Malvern</td>\n      <td>43.806686</td>\n      <td>-79.194353</td>\n    </tr>\n    <tr>\n      <th>M1C</th>\n      <td>Scarborough</td>\n      <td>Port Union,Rouge Hill,Highland Creek</td>\n      <td>43.784535</td>\n      <td>-79.160497</td>\n    </tr>\n    <tr>\n      <th>M1E</th>\n      <td>Scarborough</td>\n      <td>Guildwood,Morningside,West Hill</td>\n      <td>43.763573</td>\n      <td>-79.188711</td>\n    </tr>\n    <tr>\n      <th>M1G</th>\n      <td>Scarborough</td>\n      <td>Woburn</td>\n      <td>43.770992</td>\n      <td>-79.216917</td>\n    </tr>\n    <tr>\n      <th>M1H</th>\n      <td>Scarborough</td>\n      <td>Cedarbrae</td>\n      <td>43.773136</td>\n      <td>-79.239476</td>\n    </tr>\n  </tbody>\n</table>\n</div>",
                        "text/plain": "                Borough                          Neighborhood   Latitude  \\\nPostalCode                                                                 \nM1B         Scarborough                         Rouge,Malvern  43.806686   \nM1C         Scarborough  Port Union,Rouge Hill,Highland Creek  43.784535   \nM1E         Scarborough       Guildwood,Morningside,West Hill  43.763573   \nM1G         Scarborough                                Woburn  43.770992   \nM1H         Scarborough                             Cedarbrae  43.773136   \n\n            Longitude  \nPostalCode             \nM1B        -79.194353  \nM1C        -79.160497  \nM1E        -79.188711  \nM1G        -79.216917  \nM1H        -79.239476  "
                    },
                    "execution_count": 27,
                    "metadata": {},
                    "output_type": "execute_result"
                }
            ],
            "source": "Toronto_df.head()"
        },
        {
            "cell_type": "code",
            "execution_count": null,
            "metadata": {},
            "outputs": [],
            "source": "Toronto_df.reset_index(inplace = True) "
        },
        {
            "cell_type": "code",
            "execution_count": null,
            "metadata": {},
            "outputs": [],
            "source": "print('The dataframe has {} boroughs and {} neighborhoods.'.format(\n        len(Toronto_df['Borough'].unique()),\n       Toronto_df.shape[0]\n    )\n)"
        },
        {
            "cell_type": "code",
            "execution_count": null,
            "metadata": {},
            "outputs": [],
            "source": "Toronto_df.head()"
        },
        {
            "cell_type": "code",
            "execution_count": null,
            "metadata": {},
            "outputs": [],
            "source": "#Let's save the dataframe\nToronto_df.to_csv('Toronto_df.csv')"
        },
        {
            "cell_type": "code",
            "execution_count": null,
            "metadata": {},
            "outputs": [],
            "source": ""
        }
    ],
    "metadata": {
        "kernelspec": {
            "display_name": "Python 3.6",
            "language": "python",
            "name": "python3"
        },
        "language_info": {
            "codemirror_mode": {
                "name": "ipython",
                "version": 3
            },
            "file_extension": ".py",
            "mimetype": "text/x-python",
            "name": "python",
            "nbconvert_exporter": "python",
            "pygments_lexer": "ipython3",
            "version": "3.6.9"
        }
    },
    "nbformat": 4,
    "nbformat_minor": 2
}